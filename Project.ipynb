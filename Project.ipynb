{
 "cells": [
  {
   "cell_type": "code",
   "execution_count": null,
   "metadata": {
    "colab": {
     "base_uri": "https://localhost:8080/"
    },
    "id": "hQGWn-cPlE9M",
    "outputId": "5c1f81b0-2b63-4165-9a14-c49929de03f5"
   },
   "outputs": [],
   "source": [
    "from google.colab import drive\n",
    "drive.mount('/content/drive')"
   ]
  },
  {
   "cell_type": "code",
   "execution_count": null,
   "metadata": {
    "colab": {
     "base_uri": "https://localhost:8080/"
    },
    "id": "9XiWSf1GdgVu",
    "outputId": "a1ac1e45-4349-470a-ebc2-148bdfd7d70c"
   },
   "outputs": [],
   "source": [
    "!python --version"
   ]
  },
  {
   "cell_type": "code",
   "execution_count": null,
   "metadata": {
    "colab": {
     "base_uri": "https://localhost:8080/"
    },
    "id": "Edv8cRuj1qpb",
    "outputId": "f323545d-eb0d-4fc1-d63a-a7c2fd5d1dc8"
   },
   "outputs": [],
   "source": [
    "# clone glow\n",
    "!git clone https://github.com/y0ast/Glow-PyTorch.git\n",
    "%cd Glow-PyTorch/"
   ]
  },
  {
   "cell_type": "markdown",
   "metadata": {
    "id": "TG6oOu6icd1m"
   },
   "source": [
    "# Imports"
   ]
  },
  {
   "cell_type": "code",
   "execution_count": 1,
   "metadata": {
    "id": "Nq5Sj58V19Di"
   },
   "outputs": [
    {
     "name": "stdout",
     "output_type": "stream",
     "text": [
      "Initialize a GPU session\n"
     ]
    },
    {
     "name": "stderr",
     "output_type": "stream",
     "text": [
      "D:\\InstalledSoftware\\Anaconda3\\envs\\deepLearning\\lib\\site-packages\\torch\\cuda\\__init__.py:82: UserWarning: CUDA initialization: CUDA driver initialization failed, you might not have a CUDA gpu. (Triggered internally at  C:\\cb\\pytorch_1000000000000\\work\\c10\\cuda\\CUDAFunctions.cpp:112.)\n",
      "  return torch._C._cuda_getDeviceCount() > 0\n"
     ]
    }
   ],
   "source": [
    "# imports\n",
    "import json\n",
    "import os\n",
    "import torch\n",
    "import torch.nn as nn\n",
    "import torch.optim as optim\n",
    "import torch.nn.functional as F\n",
    "import pandas as pd\n",
    "import matplotlib.pyplot as plt\n",
    "import seaborn as sns\n",
    "import sklearn\n",
    "sns.set()\n",
    "\n",
    "from datasets import get_CIFAR10, get_SVHN, postprocess\n",
    "from model import Glow\n",
    "from torchvision import datasets, transforms, utils, models\n",
    "from pathlib import Path\n",
    "from sklearn.decomposition import PCA\n",
    "\n",
    "# initialize torch with cuda\n",
    "if torch.cuda.is_available():\n",
    "    device = torch.device(\"cuda\")\n",
    "else:\n",
    "    print('Initialize a GPU session')"
   ]
  },
  {
   "cell_type": "code",
   "execution_count": null,
   "metadata": {
    "id": "idA2bQGE3ZR1"
   },
   "outputs": [],
   "source": [
    "# download the pretrained model files\n",
    "%%capture\n",
    "if not os.path.isdir('glow'):\n",
    "  !wget https://www.cs.ox.ac.uk/people/joost.vanamersfoort/glow.zip\n",
    "  !unzip glow.zip"
   ]
  },
  {
   "cell_type": "code",
   "execution_count": null,
   "metadata": {
    "id": "V96YCAlS20pl"
   },
   "outputs": [],
   "source": [
    "output_folder = 'glow/'\n",
    "model_name = 'glow_affine_coupling.pt'\n",
    "\n",
    "with open(output_folder + 'hparams.json') as json_file:  \n",
    "    hparams = json.load(json_file)\n",
    "    \n",
    "image_shape, num_classes, _, test_cifar = get_CIFAR10(hparams['augment'], hparams['dataroot'], download=True)\n",
    "image_shape, num_classes, _, test_svhn = get_SVHN(hparams['augment'], hparams['dataroot'], download=True)\n",
    "\n",
    "\n",
    "model = Glow(image_shape, hparams['hidden_channels'], hparams['K'], hparams['L'], hparams['actnorm_scale'],\n",
    "             hparams['flow_permutation'], hparams['flow_coupling'], hparams['LU_decomposed'], num_classes,\n",
    "             hparams['learn_top'], hparams['y_condition'])\n",
    "\n",
    "model.load_state_dict(torch.load(output_folder + model_name))\n",
    "model.set_actnorm_init()\n",
    "\n",
    "model = model.to(device)\n",
    "\n",
    "model = model.eval()"
   ]
  },
  {
   "cell_type": "code",
   "execution_count": null,
   "metadata": {
    "id": "wOVnauNa3rpq"
   },
   "outputs": [],
   "source": [
    "def compute_nll(dataset, model):\n",
    "    dataloader = torch.utils.data.DataLoader(dataset, batch_size=512, num_workers=6)\n",
    "    \n",
    "    nlls = []\n",
    "    for x,y in dataloader:\n",
    "        x = x.to(device)\n",
    "        \n",
    "        if hparams['y_condition']:\n",
    "            y = y.to(device)\n",
    "        else:\n",
    "            y = None\n",
    "        \n",
    "        with torch.no_grad():\n",
    "            _, nll, _ = model(x, y_onehot=y)\n",
    "            nlls.append(nll)\n",
    "        \n",
    "    return torch.cat(nlls).cpu()"
   ]
  },
  {
   "cell_type": "code",
   "execution_count": null,
   "metadata": {
    "id": "clDFGPvu5Hda"
   },
   "outputs": [],
   "source": [
    "cifar_nll = compute_nll(test_cifar, model)\n",
    "svhn_nll = compute_nll(test_svhn, model)\n",
    "\n",
    "print(\"CIFAR NLL\", torch.mean(cifar_nll))\n",
    "print(\"SVHN NLL\", torch.mean(svhn_nll))"
   ]
  },
  {
   "cell_type": "code",
   "execution_count": null,
   "metadata": {
    "colab": {
     "base_uri": "https://localhost:8080/",
     "height": 627
    },
    "id": "w6JFPxKB5JaJ",
    "outputId": "bb7fb02d-8c5d-49d8-d21d-a93b364b7cfe"
   },
   "outputs": [],
   "source": [
    "plt.figure(figsize=(20,10))\n",
    "plt.title(\"Histogram Glow - trained on CIFAR10\")\n",
    "plt.xlabel(\"Negative bits per dimension\")\n",
    "plt.hist(-svhn_nll.numpy(), label=\"SVHN\", density=True, bins=30)\n",
    "plt.hist(-cifar_nll.numpy(), label=\"CIFAR10\", density=True, bins=50)\n",
    "plt.legend()\n",
    "plt.savefig('/content/drive/MyDrive/Colab Notebooks/DLGraphs/Likelihood.png',dpi=600)\n",
    "plt.show()"
   ]
  },
  {
   "cell_type": "markdown",
   "metadata": {
    "id": "ybqeRHG6PnVV"
   },
   "source": [
    "# Histogram of Data Statistics"
   ]
  },
  {
   "cell_type": "code",
   "execution_count": 2,
   "metadata": {
    "colab": {
     "base_uri": "https://localhost:8080/"
    },
    "id": "bXXOJ7znr_lA",
    "outputId": "a3a32ca7-ef9b-4611-e94e-a495caf1c8ca"
   },
   "outputs": [
    {
     "name": "stdout",
     "output_type": "stream",
     "text": [
      "Files already downloaded and verified\n",
      "Files already downloaded and verified\n",
      "Files already downloaded and verified\n",
      "Using downloaded and verified file: F:\\dl\\project\\data_noTransform\\data\\SVHN\\train_32x32.mat\n",
      "Using downloaded and verified file: F:\\dl\\project\\data_noTransform\\data\\SVHN\\test_32x32.mat\n"
     ]
    }
   ],
   "source": [
    "transform = transforms.Compose([\n",
    "    transforms.ToTensor()\n",
    "])\n",
    "\n",
    "train_cifar10 = datasets.CIFAR10(\n",
    "    root = 'F:\\\\dl\\\\project\\\\data_noTransform\\\\data\\\\CIFAR10',\n",
    "    train=True,\n",
    "    transform=transform,\n",
    "    download=True\n",
    "    )\n",
    "\n",
    "test_cifar10 = datasets.CIFAR10(\n",
    "    root = 'F:\\\\dl\\\\project\\\\data_noTransform\\\\data\\\\CIFAR10',\n",
    "    train=False,\n",
    "    transform=transform,\n",
    "    download=False\n",
    "    )\n",
    "\n",
    "train_cifar100 = datasets.CIFAR100(\n",
    "    root = 'F:\\\\dl\\\\project\\\\data_noTransform\\\\data\\\\CIFAR100',\n",
    "    train=True,\n",
    "    transform=transform,\n",
    "    download=True\n",
    "    )\n",
    "test_cifar100 = datasets.CIFAR100(\n",
    "    root = 'F:\\\\dl\\\\project\\\\data_noTransform\\\\data\\\\CIFAR100',\n",
    "    train=False,\n",
    "    transform=transform,\n",
    "    download=True\n",
    "    )\n",
    "\n",
    "train_svhn = datasets.SVHN(\n",
    "    root = 'F:\\\\dl\\\\project\\\\data_noTransform\\\\data\\\\SVHN',\n",
    "    split=\"train\",\n",
    "    transform=transform,\n",
    "    download=True\n",
    "    )\n",
    "\n",
    "test_svhn = datasets.SVHN(\n",
    "    root = 'F:\\\\dl\\\\project\\\\data_noTransform\\\\data\\\\SVHN',\n",
    "    split=\"test\",\n",
    "    transform=transform,\n",
    "    download=True\n",
    "    )\n"
   ]
  },
  {
   "cell_type": "code",
   "execution_count": null,
   "metadata": {
    "id": "OkY3KrC5ve7y"
   },
   "outputs": [],
   "source": [
    "# Reference: https://discuss.pytorch.org/t/about-normalization-using-pre-trained-vgg16-networks/23560\n",
    "\n",
    "def getDatasetStats(dataLoader=None):\n",
    "  mean = 0.\n",
    "  std = 0.\n",
    "  \n",
    "  iterCount = 0\n",
    "  datasetValues = {}\n",
    "\n",
    "  for data, _ in dataLoader:\n",
    "    if iterCount == 0:\n",
    "      datasetValues['currDataset'] = data.clone()\n",
    "    else:\n",
    "      datasetValues['currDataset'] = torch.cat((datasetValues['currDataset'], data.clone()), 0)\n",
    "  \n",
    "    iterCount += 1\n",
    "\n",
    "  datasetValues['currDataset'] = (datasetValues['currDataset'] - datasetValues['currDataset'].min())/(datasetValues['currDataset'].max() - datasetValues['currDataset'].min())\n",
    "\n",
    "  data = datasetValues['currDataset']\n",
    "\n",
    "  batch_samples = data.size(0) # batch size (the last batch can have smaller size!)\n",
    "  data = data.view(batch_samples, -1)\n",
    "  mean = data.sum(0)\n",
    "\n",
    "  mean = mean/batch_samples\n",
    "\n",
    "  batch_samples = data.size(0) # batch size (the last batch can have smaller size!)\n",
    "  data = data.view(batch_samples, -1)\n",
    "  data -= mean\n",
    "  std += (data**2).sum(0) \n",
    "\n",
    "  std = std/(batch_samples-1)\n",
    "\n",
    "  return mean, std\n",
    "\n",
    "combined_svhn = torch.utils.data.ConcatDataset([train_svhn, test_svhn])\n",
    "dataloader = torch.utils.data.DataLoader(combined_svhn, batch_size=512)\n",
    "mean_svhn, std_svhn = getDatasetStats(dataloader)\n",
    "\n",
    "combined_cifar10 = torch.utils.data.ConcatDataset([train_cifar10, test_cifar10])\n",
    "dataloader = torch.utils.data.DataLoader(combined_cifar10, batch_size=512)\n",
    "mean_cifar10, std_cifar10 = getDatasetStats(dataloader)\n",
    "\n",
    "combined_cifar100 = torch.utils.data.ConcatDataset([train_cifar100, test_cifar100])\n",
    "dataloader = torch.utils.data.DataLoader(combined_cifar100, batch_size=512)\n",
    "mean_cifar100, std_cifar100 = getDatasetStats(dataloader)\n"
   ]
  },
  {
   "cell_type": "code",
   "execution_count": null,
   "metadata": {
    "id": "ktkl52CqTMzo"
   },
   "outputs": [],
   "source": [
    "df_means = pd.DataFrame({'SVHN':mean_svhn.tolist(),\n",
    "                         'Cifar10':mean_cifar10.tolist(),\n",
    "                         'Cifar100':mean_cifar100.tolist()})"
   ]
  },
  {
   "cell_type": "code",
   "execution_count": null,
   "metadata": {
    "id": "Mipw6d_Ds7Lh"
   },
   "outputs": [],
   "source": [
    "df_std = pd.DataFrame({'SVHN':std_svhn.tolist(),\n",
    "                       'Cifar10':std_cifar10.tolist(),\n",
    "                       'Cifar100':std_cifar100.tolist()})"
   ]
  },
  {
   "cell_type": "code",
   "execution_count": null,
   "metadata": {
    "colab": {
     "base_uri": "https://localhost:8080/",
     "height": 365
    },
    "id": "vq3SnRMevJuN",
    "outputId": "d430030f-883b-4e92-da4f-a85ead9b01d3"
   },
   "outputs": [],
   "source": [
    "sns.displot(df_means, kind='kde')\n",
    "plt.savefig('/content/drive/MyDrive/Colab Notebooks/DLGraphs/DataMeanScaled.png',dpi=600)\n",
    "plt.show()"
   ]
  },
  {
   "cell_type": "code",
   "execution_count": null,
   "metadata": {
    "colab": {
     "base_uri": "https://localhost:8080/",
     "height": 365
    },
    "id": "upApNJpPEje6",
    "outputId": "2c2e83d0-fab1-4794-f9ed-349666654c40"
   },
   "outputs": [],
   "source": [
    "sns.displot(df_std, kind='kde')\n",
    "plt.savefig('/content/drive/MyDrive/Colab Notebooks/DLGraphs/DataStDeviationScaled.png',dpi=600)\n",
    "plt.show()"
   ]
  },
  {
   "cell_type": "markdown",
   "metadata": {
    "id": "JxDNvPzUiyMi"
   },
   "source": [
    "# Autoencoder"
   ]
  },
  {
   "cell_type": "code",
   "execution_count": null,
   "metadata": {
    "id": "_DRo8GL3i8uP"
   },
   "outputs": [],
   "source": [
    "class AutoEncoder(torch.nn.Module):\n",
    "    def __init__(self, **kwargs):\n",
    "        super().__init__()\n",
    "        self.encoder_hidden_layer = torch.nn.Linear(\n",
    "            in_features=kwargs[\"input_shape\"], out_features=1024\n",
    "        )\n",
    "        self.encoder_output_layer = torch.nn.Linear(\n",
    "            in_features=1024, out_features=512\n",
    "        )\n",
    "        self.decoder_hidden_layer = torch.nn.Linear(\n",
    "            in_features=512, out_features=1024\n",
    "        )\n",
    "        self.decoder_output_layer = torch.nn.Linear(\n",
    "            in_features=1024, out_features=kwargs[\"input_shape\"]\n",
    "        )\n",
    "\n",
    "    def forward(self, features):\n",
    "        activation = self.encoder_hidden_layer(features)\n",
    "        activation = torch.relu(activation)\n",
    "        code = self.encoder_output_layer(activation)\n",
    "        code = torch.relu(code)\n",
    "        activation = self.decoder_hidden_layer(code)\n",
    "        activation = torch.relu(activation)\n",
    "        activation = self.decoder_output_layer(activation)\n",
    "        reconstructed = torch.relu(activation)\n",
    "        return reconstructed\n"
   ]
  },
  {
   "cell_type": "code",
   "execution_count": null,
   "metadata": {
    "id": "igd3HRFUijND"
   },
   "outputs": [],
   "source": [
    "#  use gpu if available\n",
    "device = torch.device(\"cuda\" if torch.cuda.is_available() else \"cpu\")\n",
    "\n",
    "# load it to the specified device, either gpu or cpu\n",
    "model = AutoEncoder(input_shape=3072).to(device)\n",
    "\n",
    "# create an optimizer object\n",
    "# Adam optimizer with learning rate 1e-3\n",
    "optimizer = torch.optim.Adam(model.parameters(), lr=1e-3)\n",
    "\n",
    "# mean-squared error loss\n",
    "criterion = torch.nn.MSELoss()"
   ]
  },
  {
   "cell_type": "code",
   "execution_count": null,
   "metadata": {
    "id": "ulDKQlihjuMo"
   },
   "outputs": [],
   "source": [
    "def trainEncoder(dataLoader, epochs):\n",
    "  for epoch in range(epochs):\n",
    "      loss = 0\n",
    "      for batch_features, _ in dataLoader:\n",
    "          \n",
    "          # load it to the active device\n",
    "          batch_features = batch_features.view(-1, 3072).to(device)\n",
    "          \n",
    "          # reset the gradients back to zero\n",
    "          # PyTorch accumulates gradients on subsequent backward passes\n",
    "          optimizer.zero_grad()\n",
    "          \n",
    "          # compute reconstructions\n",
    "          outputs = model(batch_features)\n",
    "          \n",
    "          # compute training reconstruction loss\n",
    "          train_loss = criterion(outputs, batch_features)\n",
    "          \n",
    "          # compute accumulated gradients\n",
    "          train_loss.backward()\n",
    "          \n",
    "          # perform parameter update based on current gradients\n",
    "          optimizer.step()\n",
    "          \n",
    "          # add the mini-batch training loss to epoch loss\n",
    "          loss += train_loss.item()\n",
    "      \n",
    "      # compute the epoch training loss\n",
    "      loss = loss / len(dataLoader)\n",
    "      \n",
    "      # display the epoch training loss\n",
    "      print(\"epoch : {}/{}, loss = {:.6f}\".format(epoch + 1, epochs, loss))"
   ]
  },
  {
   "cell_type": "code",
   "execution_count": null,
   "metadata": {
    "colab": {
     "base_uri": "https://localhost:8080/"
    },
    "id": "q0vn2NTQmSET",
    "outputId": "c8f553a1-aa05-427f-a1d7-7a9a14dc2092"
   },
   "outputs": [],
   "source": [
    "# dataloader = torch.utils.data.DataLoader(train_svhn, batch_size=512)\n",
    "\n",
    "# dataloader = torch.utils.data.DataLoader(train_cifar10, batch_size=512)\n",
    "\n",
    "dataloader = torch.utils.data.DataLoader(train_cifar100, batch_size=512)\n",
    "\n",
    "trainEncoder(dataloader, 20)"
   ]
  },
  {
   "cell_type": "code",
   "execution_count": null,
   "metadata": {
    "id": "qCSMN3LrunY7"
   },
   "outputs": [],
   "source": [
    "# Store activations\n",
    "\n",
    "# activation = {}"
   ]
  },
  {
   "cell_type": "code",
   "execution_count": null,
   "metadata": {
    "id": "vjoqct8p3mDT"
   },
   "outputs": [],
   "source": [
    "count = 0"
   ]
  },
  {
   "cell_type": "code",
   "execution_count": null,
   "metadata": {
    "id": "-tsgz4Ahq3lJ"
   },
   "outputs": [],
   "source": [
    "# Create hook to get values\n",
    "\n",
    "def get_activation(name):\n",
    "    def hook(model, input, output):\n",
    "      global count\n",
    "      if count == 0:\n",
    "        activation[name] = output.clone()\n",
    "      else:\n",
    "        activation[name] = torch.cat((activation[name], output.clone()), 0)\n",
    "      count += 1\n",
    "    return hook"
   ]
  },
  {
   "cell_type": "code",
   "execution_count": null,
   "metadata": {
    "colab": {
     "base_uri": "https://localhost:8080/"
    },
    "id": "PJDlzPFyolck",
    "outputId": "015d1745-d625-4fee-8186-3cd5470c42b3"
   },
   "outputs": [],
   "source": [
    "encoderLatent = torch\n",
    "model.encoder_output_layer.register_forward_hook(get_activation('cifar100'))"
   ]
  },
  {
   "cell_type": "code",
   "execution_count": null,
   "metadata": {
    "id": "ubhU0zRgo0qq"
   },
   "outputs": [],
   "source": [
    "def getLatentRep(dataLoader):\n",
    "  for batch_features, _ in dataLoader:\n",
    "      \n",
    "      # load it to the active device\n",
    "      batch_features = batch_features.view(-1, 3072).to(device)\n",
    "      \n",
    "      # compute reconstructions\n",
    "      outputs = model(batch_features)\n",
    "\n",
    "combined_svhn = torch.utils.data.ConcatDataset([train_svhn, test_svhn])\n",
    "dataloader = torch.utils.data.DataLoader(combined_svhn, batch_size=512)\n",
    "getLatentRep(dataloader)\n",
    "\n",
    "# combined_cifar10 = torch.utils.data.ConcatDataset([train_cifar10, test_cifar10])\n",
    "# dataloader = torch.utils.data.DataLoader(combined_cifar10, batch_size=512)\n",
    "# getLatentRep(dataloader)\n",
    "\n",
    "# combined_cifar100 = torch.utils.data.ConcatDataset([train_cifar100, test_cifar100])\n",
    "# dataloader = torch.utils.data.DataLoader(combined_cifar100, batch_size=512)\n",
    "# getLatentRep(dataloader)"
   ]
  },
  {
   "cell_type": "code",
   "execution_count": null,
   "metadata": {
    "id": "EJ6ZuX0C4xfK"
   },
   "outputs": [],
   "source": [
    "def getLatentRepStats(name):\n",
    "  mean = 0.\n",
    "  std = 0.\n",
    "\n",
    "  scaled = (activation[name] - activation[name].min())/(activation[name].max() - activation[name].min())\n",
    "\n",
    "  batch_samples = scaled.size(0) # batch size (the last batch can have smaller size!)\n",
    "  scaled = scaled.view(batch_samples, -1)\n",
    "  mean = scaled.sum(0)\n",
    "\n",
    "  mean = mean/batch_samples\n",
    "\n",
    "  batch_samples = scaled.size(0) # batch size (the last batch can have smaller size!)\n",
    "  scaled = scaled.view(batch_samples, -1)\n",
    "  scaled -= mean\n",
    "  std += (scaled**2).sum(0) \n",
    "\n",
    "  std = std/(batch_samples-1)\n",
    "\n",
    "  return mean, std"
   ]
  },
  {
   "cell_type": "code",
   "execution_count": null,
   "metadata": {
    "id": "wbIjbpqTpDsV"
   },
   "outputs": [],
   "source": [
    "mean_svhn, std_svhn = getLatentRepStats('svhn')\n",
    "mean_cifar10, std_cifar10 = getLatentRepStats('cifar10')\n",
    "mean_cifar100, std_cifar100 = getLatentRepStats('cifar100')"
   ]
  },
  {
   "cell_type": "markdown",
   "metadata": {
    "id": "Ka1tod4piW6S"
   },
   "source": [
    "### Histogram of Latent Representation Statistics (Autoencoder)"
   ]
  },
  {
   "cell_type": "code",
   "execution_count": null,
   "metadata": {
    "id": "z3ccyKfL6cXW"
   },
   "outputs": [],
   "source": [
    "df_means = pd.DataFrame({'SVHN':mean_svhn.tolist(),\n",
    "                         'Cifar10':mean_cifar10.tolist(),\n",
    "                         'Cifar100':mean_cifar100.tolist()})"
   ]
  },
  {
   "cell_type": "code",
   "execution_count": null,
   "metadata": {
    "id": "iDAsDOkp6cXu"
   },
   "outputs": [],
   "source": [
    "df_std = pd.DataFrame({'SVHN':std_svhn.tolist(),\n",
    "                       'Cifar10':std_cifar10.tolist(),\n",
    "                       'Cifar100':std_cifar100.tolist()})"
   ]
  },
  {
   "cell_type": "code",
   "execution_count": null,
   "metadata": {
    "colab": {
     "base_uri": "https://localhost:8080/",
     "height": 365
    },
    "id": "z-gGph_T6cXu",
    "outputId": "634a8aad-7061-4188-d2a4-7a6715f7b6d1"
   },
   "outputs": [],
   "source": [
    "sns.displot(df_means, kind='kde')\n",
    "plt.savefig('/content/drive/MyDrive/Colab Notebooks/DLGraphs/AEMeanScaled.png',dpi=600)\n",
    "plt.show()"
   ]
  },
  {
   "cell_type": "code",
   "execution_count": null,
   "metadata": {
    "colab": {
     "base_uri": "https://localhost:8080/",
     "height": 365
    },
    "id": "vrZzq5lm6cXv",
    "outputId": "93b481f5-fc30-4dfa-843d-35f1fb38b2f1"
   },
   "outputs": [],
   "source": [
    "sns.displot(df_std, kind='kde')\n",
    "plt.savefig('/content/drive/MyDrive/Colab Notebooks/DLGraphs/AEStDeviationScaled.png',dpi=600)\n",
    "plt.show()"
   ]
  },
  {
   "cell_type": "markdown",
   "metadata": {
    "id": "bQZ_rG4I6rkf"
   },
   "source": [
    "# PCA"
   ]
  },
  {
   "cell_type": "code",
   "execution_count": null,
   "metadata": {
    "id": "5uRpkiekFS2I"
   },
   "outputs": [],
   "source": [
    "cat_svhn = torch.cat((torch.tensor(train_svhn.data), torch.tensor(test_svhn.data)),0)*1.0\n",
    "cat_cifar10 = torch.cat((torch.tensor(train_cifar10.data), torch.tensor(test_cifar10.data)),0)*1.0\n",
    "cat_cifar100 = torch.cat((torch.tensor(train_cifar100.data), torch.tensor(test_cifar100.data)),0)*1.0"
   ]
  },
  {
   "cell_type": "code",
   "execution_count": null,
   "metadata": {
    "colab": {
     "base_uri": "https://localhost:8080/"
    },
    "id": "UgX6HSQFCgtS",
    "outputId": "86c89b76-e95a-4346-b26a-13e41bdcc283"
   },
   "outputs": [],
   "source": [
    "n,x,y,z = cat_cifar10.size()\n",
    "cat_cifar10_edited = cat_cifar10.reshape(n,z,x,y)\n",
    "n,x,y,z = cat_cifar100.size()\n",
    "cat_cifar100_edited = cat_cifar100.reshape(n,z,x,y)\n",
    "cat_svhn_edited = cat_svhn[:n, :z, :x, :y]\n",
    "\n",
    "print(cat_cifar10_edited.size())\n",
    "print(cat_svhn_edited.size())"
   ]
  },
  {
   "cell_type": "code",
   "execution_count": null,
   "metadata": {
    "colab": {
     "base_uri": "https://localhost:8080/"
    },
    "id": "viK4-vsRM0q4",
    "outputId": "11fe9b9d-e567-4b51-f253-a596064b7016"
   },
   "outputs": [],
   "source": [
    "U_svhn,S_svhn,V_svhn = torch.pca_lowrank(cat_svhn_edited, q=None, center=True, niter=2)\n",
    "U_cifar10,S_cifar10,V_cifar10 = torch.pca_lowrank(cat_cifar10_edited, q=None, center=True, niter=2)\n",
    "U_cifar100,S_cifar100,V_cifar100 = torch.pca_lowrank(cat_cifar100_edited, q=None, center=True, niter=2)\n",
    "\n",
    "print(U_svhn.size())\n",
    "print(U_cifar10.size())\n",
    "print(U_cifar100.size())\n",
    "# print(train_cifar100[0][0].size())"
   ]
  },
  {
   "cell_type": "code",
   "execution_count": null,
   "metadata": {
    "id": "QC3wB-n-rLM1"
   },
   "outputs": [],
   "source": [
    "# mean_svhn = torch.mean(U_svhn, dim = (1,2,3))\n",
    "# mean_cifar10 = torch.mean(U_cifar10, dim = (1,2,3))\n",
    "# mean_cifar100 = torch.mean(U_cifar100, dim = (1,2,3))"
   ]
  },
  {
   "cell_type": "code",
   "execution_count": null,
   "metadata": {
    "id": "Hs6UqoW99X6d"
   },
   "outputs": [],
   "source": [
    "# pca_means = pd.DataFrame({'SVHN':mean_svhn.tolist(),\n",
    "#                          'Cifar10':mean_cifar10.tolist(),\n",
    "#                          'Cifar100':mean_cifar100.tolist()})\n",
    "\n",
    "n, x, y, z = U_svhn.shape\n",
    "U_svhn_reshaped = U_svhn.reshape(n, x*y*z)\n",
    "U_cifar10_reshaped = U_cifar10.reshape(n, x*y*z)\n",
    "U_cifar100_reshaped = U_cifar100.reshape(n, x*y*z)"
   ]
  },
  {
   "cell_type": "code",
   "execution_count": null,
   "metadata": {
    "colab": {
     "base_uri": "https://localhost:8080/"
    },
    "id": "uVfrSm8C_Yj6",
    "outputId": "a913df59-b7f9-47c3-befb-63720a74ad78"
   },
   "outputs": [],
   "source": [
    "print(U_svhn_reshaped.size())\n",
    "print(U_cifar10_reshaped.size())\n",
    "print(U_cifar100_reshaped.size())"
   ]
  },
  {
   "cell_type": "markdown",
   "metadata": {
    "id": "b9asHo9OdE4M"
   },
   "source": [
    "### Histogram of Latent Representation Statistics (PCA)"
   ]
  },
  {
   "cell_type": "code",
   "execution_count": null,
   "metadata": {
    "id": "ul6OYFv2AIxQ"
   },
   "outputs": [],
   "source": [
    "def getLatentRepStats(reshaped_tensor):\n",
    "  mean = 0.\n",
    "  std = 0.\n",
    "\n",
    "  scaled = (reshaped_tensor - reshaped_tensor.min())/(reshaped_tensor.max() - reshaped_tensor.min())\n",
    "\n",
    "  batch_samples = scaled.size(0) # batch size (the last batch can have smaller size!)\n",
    "  scaled = scaled.view(batch_samples, -1)\n",
    "  mean = scaled.sum(0)\n",
    "\n",
    "  mean = mean/batch_samples\n",
    "\n",
    "  batch_samples = scaled.size(0) # batch size (the last batch can have smaller size!)\n",
    "  scaled = scaled.view(batch_samples, -1)\n",
    "  scaled -= mean\n",
    "  std += (scaled**2).sum(0) \n",
    "\n",
    "  std = std/(batch_samples-1)\n",
    "\n",
    "  return mean, std"
   ]
  },
  {
   "cell_type": "code",
   "execution_count": null,
   "metadata": {
    "id": "dqcIhUEqAdvL"
   },
   "outputs": [],
   "source": [
    "\n",
    "mean_svhn, std_svhn = getLatentRepStats(U_svhn_reshaped)\n",
    "mean_cifar10, std_cifar10 = getLatentRepStats(U_cifar10_reshaped)\n",
    "mean_cifar100, std_cifar100 = getLatentRepStats(U_cifar100_reshaped)"
   ]
  },
  {
   "cell_type": "code",
   "execution_count": null,
   "metadata": {
    "colab": {
     "base_uri": "https://localhost:8080/"
    },
    "id": "qvh3qN_MB6_I",
    "outputId": "5268ac0c-a1ac-4a2d-9e88-31d030af05e0"
   },
   "outputs": [],
   "source": [
    "mean_svhn.size()"
   ]
  },
  {
   "cell_type": "code",
   "execution_count": null,
   "metadata": {
    "id": "gePNjOIzBcsS"
   },
   "outputs": [],
   "source": [
    "df_means = pd.DataFrame({'SVHN':mean_svhn.tolist(),\n",
    "                         'Cifar10':mean_cifar10.tolist(),\n",
    "                         'Cifar100':mean_cifar100.tolist()})"
   ]
  },
  {
   "cell_type": "code",
   "execution_count": null,
   "metadata": {
    "colab": {
     "base_uri": "https://localhost:8080/",
     "height": 365
    },
    "id": "Ll83OriyHP77",
    "outputId": "64071de9-053c-481d-b846-e54fcf041441"
   },
   "outputs": [],
   "source": [
    "sns.displot(df_means, kind='kde')\n",
    "plt.savefig('/content/drive/MyDrive/PCAMeanScaled.png',dpi=600)\n",
    "plt.show()"
   ]
  },
  {
   "cell_type": "code",
   "execution_count": null,
   "metadata": {
    "colab": {
     "base_uri": "https://localhost:8080/",
     "height": 365
    },
    "id": "IH9tr8P2Hehb",
    "outputId": "366bded5-4261-4faa-c441-77ec97f14f66"
   },
   "outputs": [],
   "source": [
    "df_std = pd.DataFrame({'SVHN':std_svhn.tolist(),\n",
    "                         'Cifar10':std_cifar10.tolist(),\n",
    "                         'Cifar100':std_cifar100.tolist()})\n",
    "\n",
    "sns.displot(df_std, kind='kde')\n",
    "plt.savefig('/content/drive/MyDrive/PCAStdScaled.png',dpi=600)\n",
    "plt.show()"
   ]
  },
  {
   "cell_type": "markdown",
   "metadata": {
    "id": "t9smbxjN6cXx"
   },
   "source": [
    "# Discriminator"
   ]
  },
  {
   "cell_type": "markdown",
   "metadata": {
    "id": "4P--gI2SEKg9"
   },
   "source": [
    "## VGG_16"
   ]
  },
  {
   "cell_type": "code",
   "execution_count": null,
   "metadata": {
    "id": "WI-oBXeH6uKT"
   },
   "outputs": [],
   "source": [
    "#model_resnet50 = models.resnet50(pretrained=True)\n",
    "model_vgg16 = models.vgg16(pretrained=True)"
   ]
  },
  {
   "cell_type": "code",
   "execution_count": null,
   "metadata": {
    "id": "I_Mo9Ohz_Ka7"
   },
   "outputs": [],
   "source": [
    "print(model_vgg16)"
   ]
  },
  {
   "cell_type": "code",
   "execution_count": null,
   "metadata": {
    "id": "F0ZiUfBo8cS3"
   },
   "outputs": [],
   "source": [
    "model_vgg16.classifier[6] = nn.Linear(4096, 100, bias=True)\n"
   ]
  },
  {
   "cell_type": "code",
   "execution_count": null,
   "metadata": {
    "id": "oZtT9Shm9Ud9"
   },
   "outputs": [],
   "source": [
    "model = model_vgg16\n",
    "model = model.to(device)"
   ]
  },
  {
   "cell_type": "code",
   "execution_count": null,
   "metadata": {
    "id": "eEDGbkJb2-dC"
   },
   "outputs": [],
   "source": [
    "def evaluate_accuracy(data_loader, net, device=torch.device('cpu')):\n",
    "    \"\"\"Evaluate accuracy of a model on the given data set.\"\"\"\n",
    "    net.eval()  #make sure network is in evaluation mode\n",
    "\n",
    "    #init\n",
    "    acc_sum = torch.tensor([0], dtype=torch.float32, device=device)\n",
    "    n = 0\n",
    "\n",
    "    for X, y in data_loader:\n",
    "        # Copy the data to device.\n",
    "        X, y = X.to(device), y.to(device)\n",
    "        with torch.no_grad():\n",
    "            y = y.long()\n",
    "            acc_sum += torch.sum((torch.argmax(net(X), dim=1) == y))\n",
    "            n += y.shape[0] #increases with the number of samples in the batch\n",
    "        break\n",
    "    return acc_sum.item()/n"
   ]
  },
  {
   "cell_type": "code",
   "execution_count": null,
   "metadata": {
    "colab": {
     "base_uri": "https://localhost:8080/"
    },
    "id": "p8tsgsZC2Suy",
    "outputId": "983e6c63-c996-49c4-a41e-8b9ca4c3a5e8"
   },
   "outputs": [],
   "source": [
    "# Training parameters\n",
    "learning_rate = 0.005\n",
    "epochs = 10 \n",
    "\n",
    "# Initialize network\n",
    "#net = Net(in_channels, hidden_channels, out_features)\n",
    "net = model\n",
    "optimizer = torch.optim.SGD(net.parameters(), lr = learning_rate)\n",
    "criterion = nn.CrossEntropyLoss()\n",
    "\n",
    "# Define list to store losses and performances of each iteration\n",
    "train_losses = []\n",
    "train_accs = []\n",
    "test_accs = []\n",
    "\n",
    "# Try using gpu instead\n",
    "device = torch.device(\"cuda\" if torch.cuda.is_available() else \"cpu\")\n",
    "dataloader = torch.utils.data.DataLoader(train_cifar100, batch_size=512)\n",
    "\n",
    "for epoch in range(epochs):\n",
    "\n",
    "    # Network in training mode and to device\n",
    "    net.train()\n",
    "    net.to(device)\n",
    "\n",
    "    # Training loop\n",
    "    for i, (x_batch, y_batch) in enumerate(dataloader):\n",
    "\n",
    "        # Set to same device\n",
    "        x_batch, y_batch = x_batch.to(device), y_batch.to(device)\n",
    "\n",
    "        # Set the gradients to zero\n",
    "        optimizer.zero_grad()\n",
    "\n",
    "        # Perform forward pass\n",
    "        y_pred = net(x_batch)\n",
    "\n",
    "        # Compute the loss\n",
    "        loss = criterion(y_pred, y_batch)\n",
    "        train_losses.append(loss)\n",
    "        \n",
    "        # Backward computation and update\n",
    "        loss.backward()\n",
    "        optimizer.step()\n",
    "\n",
    "    # Compute train and test error\n",
    "    train_acc = 100*evaluate_accuracy(dataloader, net.to('cpu'))\n",
    "  \n",
    "    \n",
    "    # Development of performance\n",
    "    train_accs.append(train_acc)\n",
    "    #test_accs.append(test_acc)\n",
    "\n",
    "    # Print performance\n",
    "    print('Epoch: {:.0f}'.format(epoch+1))\n",
    "    print('Accuracy of train set: {:.00f}%'.format(train_acc))\n",
    "    #print('Accuracy of test set: {:.00f}%'.format(test_acc))\n",
    "    print('')"
   ]
  },
  {
   "cell_type": "code",
   "execution_count": null,
   "metadata": {
    "id": "IsvUBAw2C3MA"
   },
   "outputs": [],
   "source": [
    "#torch.save(model, '/content/drive/MyDrive/Vishruty/Colab Notebooks/DL Models/Cifar100_vgg16.pt')"
   ]
  },
  {
   "cell_type": "markdown",
   "metadata": {
    "id": "e29fmKC-Amyz"
   },
   "source": [
    "## ResNET"
   ]
  },
  {
   "cell_type": "code",
   "execution_count": null,
   "metadata": {
    "id": "O4lEG6ACJJHJ"
   },
   "outputs": [],
   "source": [
    "model_resnet50 = models.resnet50(pretrained=True)"
   ]
  },
  {
   "cell_type": "code",
   "execution_count": null,
   "metadata": {
    "id": "XEOydlBGJjGg"
   },
   "outputs": [],
   "source": [
    "print(model_resnet50)"
   ]
  },
  {
   "cell_type": "code",
   "execution_count": null,
   "metadata": {
    "id": "tp_IvgHQJJHK"
   },
   "outputs": [],
   "source": [
    "#model_vgg16.classifier[6] = nn.Linear(4096, 100, bias=True)\n",
    "model_resnet50.fc = nn.Linear(2048, 100, bias=True)"
   ]
  },
  {
   "cell_type": "code",
   "execution_count": null,
   "metadata": {
    "id": "GsG3GBKzJJHK"
   },
   "outputs": [],
   "source": [
    "model = model_resnet50\n",
    "model = model.to(device)"
   ]
  },
  {
   "cell_type": "code",
   "execution_count": null,
   "metadata": {
    "id": "NpZYr0bUJJHK"
   },
   "outputs": [],
   "source": [
    "def evaluate_accuracy(data_loader, net, device=torch.device('cpu')):\n",
    "    \"\"\"Evaluate accuracy of a model on the given data set.\"\"\"\n",
    "    net.eval()  #make sure network is in evaluation mode\n",
    "\n",
    "    #init\n",
    "    acc_sum = torch.tensor([0], dtype=torch.float32, device=device)\n",
    "    n = 0\n",
    "\n",
    "    for X, y in data_loader:\n",
    "        # Copy the data to device.\n",
    "        X, y = X.to(device), y.to(device)\n",
    "        with torch.no_grad():\n",
    "            y = y.long()\n",
    "            acc_sum += torch.sum((torch.argmax(net(X), dim=1) == y))\n",
    "            n += y.shape[0] #increases with the number of samples in the batch\n",
    "        break\n",
    "    return acc_sum.item()/n"
   ]
  },
  {
   "cell_type": "code",
   "execution_count": null,
   "metadata": {
    "colab": {
     "base_uri": "https://localhost:8080/"
    },
    "id": "6QyC1gtrJJHK",
    "outputId": "40b40049-f548-4fbd-8d1d-df8e31ce6da0"
   },
   "outputs": [],
   "source": [
    "\n",
    "# Training parameters\n",
    "learning_rate = 0.005\n",
    "epochs = 13\n",
    "\n",
    "# Initialize network\n",
    "#net = Net(in_channels, hidden_channels, out_features)\n",
    "net = model\n",
    "optimizer = torch.optim.SGD(net.parameters(), lr = learning_rate)\n",
    "criterion = nn.CrossEntropyLoss()\n",
    "\n",
    "# Define list to store losses and performances of each iteration\n",
    "train_losses = []\n",
    "train_accs = []\n",
    "test_accs = []\n",
    "\n",
    "# Try using gpu instead\n",
    "device = torch.device(\"cuda\" if torch.cuda.is_available() else \"cpu\")\n",
    "dataloader = torch.utils.data.DataLoader(train_cifar100, batch_size=512)\n",
    "\n",
    "for epoch in range(epochs):\n",
    "\n",
    "    # Network in training mode and to device\n",
    "    net.train()\n",
    "    net.to(device)\n",
    "\n",
    "    # Training loop\n",
    "    for i, (x_batch, y_batch) in enumerate(dataloader):\n",
    "\n",
    "        # Set to same device\n",
    "        x_batch, y_batch = x_batch.to(device), y_batch.to(device)\n",
    "\n",
    "        # Set the gradients to zero\n",
    "        optimizer.zero_grad()\n",
    "\n",
    "        # Perform forward pass\n",
    "        y_pred = net(x_batch)\n",
    "\n",
    "        # Compute the loss\n",
    "        loss = criterion(y_pred, y_batch)\n",
    "        train_losses.append(loss)\n",
    "        \n",
    "        # Backward computation and update\n",
    "        loss.backward()\n",
    "        optimizer.step()\n",
    "\n",
    "    # Compute train and test error\n",
    "    train_acc = 100*evaluate_accuracy(dataloader, net.to('cpu'))\n",
    "  \n",
    "    \n",
    "    # Development of performance\n",
    "    train_accs.append(train_acc)\n",
    "    #test_accs.append(test_acc)\n",
    "\n",
    "    # Print performance\n",
    "    print('Epoch: {:.0f}'.format(epoch+1))\n",
    "    print('Accuracy of train set: {:.00f}%'.format(train_acc))\n",
    "    #print('Accuracy of test set: {:.00f}%'.format(test_acc))\n",
    "    print('')"
   ]
  },
  {
   "cell_type": "code",
   "execution_count": null,
   "metadata": {
    "id": "pATlGm8QJJHK"
   },
   "outputs": [],
   "source": [
    "#torch.save(model, '/content/drive/MyDrive/Vishruty/Colab Notebooks/DL Models/Cifar100_Resnet.pt')"
   ]
  },
  {
   "cell_type": "markdown",
   "metadata": {
    "id": "yIRxf5JNAjLf"
   },
   "source": [
    "## Latent Rep Discriminators"
   ]
  },
  {
   "cell_type": "code",
   "execution_count": null,
   "metadata": {
    "id": "1wVnDAbaawFl"
   },
   "outputs": [],
   "source": [
    "device = 'cpu'"
   ]
  },
  {
   "cell_type": "code",
   "execution_count": null,
   "metadata": {
    "id": "mZ9L0X-Q52b9"
   },
   "outputs": [],
   "source": [
    "model = torch.load('models/SVHN_Resnet.pt')"
   ]
  },
  {
   "cell_type": "code",
   "execution_count": null,
   "metadata": {
    "id": "Yj3cFm_HaHOc"
   },
   "outputs": [],
   "source": [
    "model = model.to(device)"
   ]
  },
  {
   "cell_type": "code",
   "execution_count": null,
   "metadata": {
    "id": "7el5GCRXAmyy"
   },
   "outputs": [],
   "source": [
    "# Store activations\n",
    "\n",
    "activation = {}"
   ]
  },
  {
   "cell_type": "code",
   "execution_count": null,
   "metadata": {
    "id": "ioEIXTqNAmyy"
   },
   "outputs": [],
   "source": [
    "# Create hook to get values\n",
    "\n",
    "def get_activation(name):\n",
    "    def hook(model, input, output):\n",
    "      global count\n",
    "      if count == 0:\n",
    "        activation[name] = output.clone()\n",
    "      else:\n",
    "        activation[name] = torch.cat((activation[name], output.clone()), 0)\n",
    "      count += 1\n",
    "    return hook"
   ]
  },
  {
   "cell_type": "code",
   "execution_count": null,
   "metadata": {
    "id": "gmNc8IJfPHRk"
   },
   "outputs": [],
   "source": [
    "print(model)"
   ]
  },
  {
   "cell_type": "code",
   "execution_count": null,
   "metadata": {
    "id": "2XHztLcnAmyy"
   },
   "outputs": [],
   "source": [
    "# model.classifier[3].register_forward_hook(get_activation('cifar10'))"
   ]
  },
  {
   "cell_type": "code",
   "execution_count": null,
   "metadata": {
    "id": "e8ividdEAmyz"
   },
   "outputs": [],
   "source": [
    "def getLatentRep(dataLoader, name):\n",
    "\n",
    "  count = 0\n",
    "\n",
    "  for batch_features, _ in dataLoader:\n",
    "      \n",
    "      # load it to the active device\n",
    "      batch_features = batch_features.to(device)    \n",
    "      # compute reconstructions\n",
    "      outputs = model(batch_features)\n",
    "\n",
    "      if count == 0:\n",
    "        activation[name] = outputs.clone()\n",
    "      else:\n",
    "        activation[name] = torch.cat((activation[name], outputs.clone()), 0)\n",
    "      \n",
    "      count += 1\n",
    "\n",
    "# combined_svhn = torch.utils.data.ConcatDataset([train_svhn, test_svhn])\n",
    "dataloader = torch.utils.data.DataLoader(test_svhn, batch_size=512)\n",
    "getLatentRep(dataloader, 'svhn')\n",
    "\n",
    "# combined_cifar10 = torch.utils.data.ConcatDataset([train_cifar10, test_cifar10])\n",
    "# dataloader = torch.utils.data.DataLoader(combined_cifar10, batch_size=512)\n",
    "# getLatentRep(dataloader, 'cifar10')\n",
    "\n",
    "# combined_cifar100 = torch.utils.data.ConcatDataset([train_cifar100, test_cifar100])\n",
    "# dataloader = torch.utils.data.DataLoader(combined_cifar100, batch_size=512)\n",
    "# getLatentRep(dataloader, 'cifar100')"
   ]
  },
  {
   "cell_type": "code",
   "execution_count": null,
   "metadata": {
    "colab": {
     "base_uri": "https://localhost:8080/"
    },
    "id": "w2ZHwbpUaXPJ",
    "outputId": "0fabac09-022e-4374-9f8c-f3675d13e699"
   },
   "outputs": [],
   "source": [
    "activation['svhn'].shape"
   ]
  },
  {
   "cell_type": "code",
   "execution_count": null,
   "metadata": {},
   "outputs": [],
   "source": [
    "torch.save(activation['svhn'], 'latentRep/SVHN_Resnet.pt')"
   ]
  },
  {
   "cell_type": "code",
   "execution_count": null,
   "metadata": {},
   "outputs": [],
   "source": [
    "# For VGG16\n",
    "\n",
    "activation = {}\n",
    "activation['cifar100'] = torch.load('latentRep/CIFAR100_VGG16.pt')\n",
    "activation['cifar10'] = torch.load('latentRep/CIFAR10_VGG16.pt')\n",
    "activation['svhn'] = torch.load('latentRep/SVHN_VGG16.pt')"
   ]
  },
  {
   "cell_type": "code",
   "execution_count": 3,
   "metadata": {},
   "outputs": [],
   "source": [
    "# For Resnet\n",
    "\n",
    "activation = {}\n",
    "activation['cifar100'] = torch.load('latentRep/CIFAR100_Resnet.pt')\n",
    "activation['cifar10'] = torch.load('latentRep/CIFAR10_Resnet.pt')\n",
    "activation['svhn'] = torch.load('latentRep/SVHN_Resnet.pt')"
   ]
  },
  {
   "cell_type": "code",
   "execution_count": 4,
   "metadata": {
    "id": "29BX0fAhAmyz"
   },
   "outputs": [],
   "source": [
    "def getLatentRepStats(name):\n",
    "  mean = 0.\n",
    "  std = 0.\n",
    "\n",
    "  scaled = (activation[name] - activation[name].min())/(activation[name].max() - activation[name].min())\n",
    "\n",
    "  batch_samples = scaled.size(0) # batch size (the last batch can have smaller size!)\n",
    "  scaled = scaled.view(batch_samples, -1)\n",
    "  mean = scaled.sum(0)\n",
    "\n",
    "  mean = mean/batch_samples\n",
    "\n",
    "  batch_samples = scaled.size(0) # batch size (the last batch can have smaller size!)\n",
    "  scaled = scaled.view(batch_samples, -1)\n",
    "  scaled -= mean\n",
    "  std += (scaled**2).sum(0) \n",
    "\n",
    "  std = std/(batch_samples-1)\n",
    "\n",
    "  return mean, std"
   ]
  },
  {
   "cell_type": "code",
   "execution_count": 5,
   "metadata": {
    "id": "YfQWJ8oSAmyz"
   },
   "outputs": [],
   "source": [
    "mean_svhn, std_svhn = getLatentRepStats('svhn')\n",
    "mean_cifar10, std_cifar10 = getLatentRepStats('cifar10')\n",
    "mean_cifar100, std_cifar100 = getLatentRepStats('cifar100')"
   ]
  },
  {
   "cell_type": "code",
   "execution_count": 6,
   "metadata": {},
   "outputs": [
    {
     "data": {
      "image/png": "[encoded data removed]",
      "text/plain": [
       "<Figure size 432x288 with 1 Axes>"
      ]
     },
     "metadata": {},
     "output_type": "display_data"
    }
   ],
   "source": [
    "fig, axs = plt.subplots()\n",
    "sns.kdeplot(mean_cifar100.tolist(), ax=axs)\n",
    "sns.kdeplot(mean_cifar10.tolist(), ax=axs)\n",
    "sns.kdeplot(mean_svhn.tolist(), ax=axs)\n",
    "plt.legend(['cifar100','cifar10','svhn'])\n",
    "# plt.savefig('VGG16MeanScaled.png',dpi=600)\n",
    "plt.savefig('ResNetMeanScaled.png',dpi=600)\n",
    "plt.show()"
   ]
  },
  {
   "cell_type": "code",
   "execution_count": 7,
   "metadata": {},
   "outputs": [
    {
     "data": {
      "image/png": "[encoded data removed]",
      "text/plain": [
       "<Figure size 432x288 with 1 Axes>"
      ]
     },
     "metadata": {},
     "output_type": "display_data"
    }
   ],
   "source": [
    "fig, axs = plt.subplots()\n",
    "sns.kdeplot(std_cifar100.tolist(), ax=axs)\n",
    "sns.kdeplot(std_cifar10.tolist(), ax=axs)\n",
    "sns.kdeplot(std_svhn.tolist(), ax=axs)\n",
    "plt.legend(['cifar100','cifar10','svhn'])\n",
    "# plt.savefig('VGG16StdScaled.png',dpi=600)\n",
    "plt.savefig('ResNetStdScaled.png',dpi=600)\n",
    "plt.show()"
   ]
  }
 ],
 "metadata": {
  "accelerator": "GPU",
  "colab": {
   "collapsed_sections": [],
   "name": "Glow.ipynb",
   "provenance": [],
   "toc_visible": true
  },
  "kernelspec": {
   "display_name": "Python 3",
   "language": "python",
   "name": "python3"
  },
  "language_info": {
   "codemirror_mode": {
    "name": "ipython",
    "version": 3
   },
   "file_extension": ".py",
   "mimetype": "text/x-python",
   "name": "python",
   "nbconvert_exporter": "python",
   "pygments_lexer": "ipython3",
   "version": "3.7.13"
  }
 },
 "nbformat": 4,
 "nbformat_minor": 1
}
